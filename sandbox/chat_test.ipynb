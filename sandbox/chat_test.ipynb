{
 "cells": [
  {
   "cell_type": "markdown",
   "metadata": {},
   "source": [
    "# Backend Chat Functionality Test\n",
    "\n",
    "このnotebookはバックエンドのチャット機能だけを独立してテストするためのものです。\n",
    "既存のsrc/services層からimportして動作確認を行います。"
   ]
  },
  {
   "cell_type": "markdown",
   "metadata": {},
   "source": [
    "## 1. 環境設定とImport"
   ]
  },
  {
   "cell_type": "code",
   "execution_count": 1,
   "metadata": {},
   "outputs": [
    {
     "name": "stdout",
     "output_type": "stream",
     "text": [
      "Project root: /Users/kazukikomura/Developer/research/multiagentahp\n",
      "Python path: ['/Users/kazukikomura/Developer/research/multiagentahp', '/Library/Developer/CommandLineTools/Library/Frameworks/Python3.framework/Versions/3.9/lib/python39.zip', '/Library/Developer/CommandLineTools/Library/Frameworks/Python3.framework/Versions/3.9/lib/python3.9']...\n"
     ]
    }
   ],
   "source": [
    "import sys\n",
    "import os\n",
    "from pathlib import Path\n",
    "\n",
    "# プロジェクトのルートディレクトリをパスに追加\n",
    "project_root = Path().cwd().parent\n",
    "sys.path.insert(0, str(project_root))\n",
    "\n",
    "print(f\"Project root: {project_root}\")\n",
    "print(f\"Python path: {sys.path[:3]}...\")"
   ]
  },
  {
   "cell_type": "code",
   "execution_count": 2,
   "metadata": {},
   "outputs": [
    {
     "name": "stdout",
     "output_type": "stream",
     "text": [
      "Environment loaded successfully\n"
     ]
    }
   ],
   "source": [
    "# 環境変数の読み込み\n",
    "from dotenv import load_dotenv\n",
    "load_dotenv(project_root / '.env')\n",
    "\n",
    "# 必要なライブラリのimport\n",
    "import json\n",
    "from typing import Dict, Any\n",
    "\n",
    "print(\"Environment loaded successfully\")"
   ]
  },
  {
   "cell_type": "markdown",
   "metadata": {},
   "source": [
    "## 2. 既存サービスのImport"
   ]
  },
  {
   "cell_type": "code",
   "execution_count": 3,
   "metadata": {},
   "outputs": [
    {
     "name": "stdout",
     "output_type": "stream",
     "text": [
      "✅ Services imported successfully\n"
     ]
    }
   ],
   "source": [
    "try:\n",
    "    # 既存のサービス層からimport\n",
    "    from src.services.langgraph_service import LangGraphService\n",
    "    from src.services.simple_llm import SimpleLLMResponder\n",
    "    print(\"✅ Services imported successfully\")\n",
    "except ImportError as e:\n",
    "    print(f\"❌ Import error: {e}\")\n",
    "    print(\"Please make sure you're running this from the notebooks directory\")"
   ]
  },
  {
   "cell_type": "markdown",
   "metadata": {},
   "source": [
    "## 3. テスト用サンプルデータの準備"
   ]
  },
  {
   "cell_type": "code",
   "execution_count": 5,
   "metadata": {},
   "outputs": [
    {
     "name": "stdout",
     "output_type": "stream",
     "text": [
      "✅ Sample data prepared\n",
      "User weights: {'学業成績': 0.3, '研究能力': 0.25, 'コミュニケーション': 0.2, 'リーダーシップ': 0.1, '将来性': 0.15}\n",
      "Student scores: {'学業成績': 3.2, '研究能力': 2.8, 'コミュニケーション': 3.5, 'リーダーシップ': 2.3, '将来性': 3.0}\n"
     ]
    }
   ],
   "source": [
    "# サンプルセッションデータ\n",
    "sample_session_data = {\n",
    "    'student_info': {\n",
    "        'name': '田中太郎',\n",
    "        'student_id': 'S2024001',\n",
    "        'detailed_scores': {\n",
    "            '学業成績': 3.2,\n",
    "            '研究能力': 2.8,\n",
    "            'コミュニケーション': 3.5,\n",
    "            'リーダーシップ': 2.3,\n",
    "            '将来性': 3.0\n",
    "        }\n",
    "    },\n",
    "    'decision_data': {\n",
    "        'user_weights': {\n",
    "            '学業成績': 0.3,\n",
    "            '研究能力': 0.25,\n",
    "            'コミュニケーション': 0.2,\n",
    "            'リーダーシップ': 0.1,\n",
    "            '将来性': 0.15\n",
    "        },\n",
    "        'bot_evaluators': {\n",
    "            'bot1': {'decision': '不合格'},\n",
    "            'bot2': {'decision': '不合格'},\n",
    "            'bot3': {'decision': '合格'}\n",
    "        }\n",
    "    },\n",
    "    'rule_summary': {\n",
    "        'criteria': '5項目の加重平均による総合評価',\n",
    "        'threshold_description': '各項目2.5点以上が基準',\n",
    "        'evaluation_method': '重み配分に基づく加重平均と多数決'\n",
    "    },\n",
    "    'threshold': 2.5,\n",
    "    'last_user_text': ''\n",
    "}\n",
    "\n",
    "# 初期セッション状態\n",
    "initial_state = {\n",
    "    'turn': 0,\n",
    "    'stage': 0.0,\n",
    "    'route': 'Rules',\n",
    "    'appeal_made': False,\n",
    "    'rules_shown': False,\n",
    "    'questions': []\n",
    "}\n",
    "\n",
    "print(\"✅ Sample data prepared\")\n",
    "print(f\"User weights: {sample_session_data['decision_data']['user_weights']}\")\n",
    "print(f\"Student scores: {sample_session_data['student_info']['detailed_scores']}\")"
   ]
  },
  {
   "cell_type": "markdown",
   "metadata": {},
   "source": [
    "## 4. LangGraphService（メイン）のテスト"
   ]
  },
  {
   "cell_type": "code",
   "execution_count": 6,
   "metadata": {},
   "outputs": [
    {
     "name": "stdout",
     "output_type": "stream",
     "text": [
      "✅ LangGraphService initialized\n"
     ]
    },
    {
     "name": "stderr",
     "output_type": "stream",
     "text": [
      "/Users/kazukikomura/Developer/research/multiagentahp/.venv/lib/python3.9/site-packages/urllib3/__init__.py:35: NotOpenSSLWarning: urllib3 v2 only supports OpenSSL 1.1.1+, currently the 'ssl' module is compiled with 'LibreSSL 2.8.3'. See: https://github.com/urllib3/urllib3/issues/3020\n",
      "  warnings.warn(\n"
     ]
    }
   ],
   "source": [
    "# LangGraphServiceの初期化\n",
    "lg_service = LangGraphService(enable_logging=False, session_id=\"test_session_001\")\n",
    "print(\"✅ LangGraphService initialized\")\n",
    "\n",
    "# 現在の状態をコピー（各ターンで更新されるため）\n",
    "current_state = initial_state.copy()"
   ]
  },
  {
   "cell_type": "code",
   "execution_count": 8,
   "metadata": {},
   "outputs": [
    {
     "name": "stdout",
     "output_type": "stream",
     "text": [
      "=== ターン1: 初回接触 ===\n",
      "DEBUG: Generating stage1_prefs_ack with payload: {'user_weights': {'学業成績': 0.3, '研究能力': 0.25, 'コミュニケーション': 0.2, 'リーダーシップ': 0.1, '将来性': 0.15}, 'last_user_text': 'こんにちは。今回の評価について説明をお願いします。'}\n",
      "DEBUG: Generated ack: あなたは評価についての説明を求めていますね。次に、評価の観点を整理していきましょう。\n",
      "DEBUG: bot_evaluators: {'bot1': {'decision': '不合格'}, 'bot2': {'decision': '不合格'}, 'bot3': {'decision': '合格'}}, bot_summary: {'bot1': '不合格', 'bot2': '不合格', 'bot3': '合格'}\n",
      "DEBUG: Generating stage2_present with payload: {'profile_facts': {'name': '田中太郎', 'student_id': 'S2024001', 'detailed_scores': {'学業成績': 3.2, '研究能力': 2.8, 'コミュニケーション': 3.5, 'リーダーシップ': 2.3, '将来性': 3.0}}, 'user_weights': {'学業成績': 0.3, '研究能力': 0.25, 'コミュニケーション': 0.2, 'リーダーシップ': 0.1, '将来性': 0.15}, 'minority': True, 'bot_evaluators': {'bot1': '不合格', 'bot2': '不合格', 'bot3': '合格'}, 'ratio': '2対1'}\n",
      "DEBUG: Generated analysis: ### 田中太郎さんの評価結果\n",
      "\n",
      "#### 評価概要\n",
      "- **学業成績**: 3.2\n",
      "- **研究能力**: 2.8\n",
      "- **コミュニケーション**: 3.5\n",
      "- **リーダーシップ**: 2.3\n",
      "- **将来性**: 3.0\n",
      "\n",
      "#### 重み付け\n",
      "- **学業成績**: 30%\n",
      "- **研究能力**: 25%\n",
      "- **コミュニケーション**: 20%\n",
      "- **リーダーシップ**: 10%\n",
      "- **将来性**: 15%\n",
      "\n",
      "#### 評価結果\n",
      "- **合否判定**: 2対1で不合格\n",
      "\n",
      "### 有利な点\n",
      "- **コミュニケーション**: 高評価（3.5）で、重みも20%と高め。\n",
      "- **学業成績**: 3.2と比較的良好で、最も重視される項目。\n",
      "\n",
      "### 不利な点\n",
      "- **研究能力**: 2.8とやや低めで、重みが25%と高い。\n",
      "- **リーダーシップ**: 2.3と低評価で、少ないながらも重みが影響。\n",
      "\n",
      "### 質問・異議\n",
      "何かご質問や異議がございましたら、お知らせください。\n",
      "DEBUG: Combined response: あなたは評価についての説明を求めていますね。次に、評価の観点を整理していきましょう。\n",
      "\n",
      "### 田中太郎さんの評価結果\n",
      "\n",
      "#### 評価概要\n",
      "- **学業成績**: 3.2\n",
      "- **研究能力**: 2.8\n",
      "- **コミュニケーション**: 3.5\n",
      "- **リーダーシップ**: 2.3\n",
      "- **将来性**: 3.0\n",
      "\n",
      "#### 重み付け\n",
      "- **学業成績**: 30%\n",
      "- **研究能力**: 25%\n",
      "- **コミュニケーション**: 20%\n",
      "- **リーダーシップ**: 10%\n",
      "- **将来性**: 15%\n",
      "\n",
      "#### 評価結果\n",
      "- **合否判定**: 2対1で不合格\n",
      "\n",
      "### 有利な点\n",
      "- **コミュニケーション**: 高評価（3.5）で、重みも20%と高め。\n",
      "- **学業成績**: 3.2と比較的良好で、最も重視される項目。\n",
      "\n",
      "### 不利な点\n",
      "- **研究能力**: 2.8とやや低めで、重みが25%と高い。\n",
      "- **リーダーシップ**: 2.3と低評価で、少ないながらも重みが影響。\n",
      "\n",
      "### 質問・異議\n",
      "何かご質問や異議がございましたら、お知らせください。\n",
      "AI Response: あなたは評価についての説明を求めていますね。次に、評価の観点を整理していきましょう。\n",
      "\n",
      "### 田中太郎さんの評価結果\n",
      "\n",
      "#### 評価概要\n",
      "- **学業成績**: 3.2\n",
      "- **研究能力**: 2.8\n",
      "- **コミュニケーション**: 3.5\n",
      "- **リーダーシップ**: 2.3\n",
      "- **将来性**: 3.0\n",
      "\n",
      "#### 重み付け\n",
      "- **学業成績**: 30%\n",
      "- **研究能力**: 25%\n",
      "- **コミュニケーション**: 20%\n",
      "- **リーダーシップ**: 10%\n",
      "- **将来性**: 15%\n",
      "\n",
      "#### 評価結果\n",
      "- **合否判定**: 2対1で不合格\n",
      "\n",
      "### 有利な点\n",
      "- **コミュニケーション**: 高評価（3.5）で、重みも20%と高め。\n",
      "- **学業成績**: 3.2と比較的良好で、最も重視される項目。\n",
      "\n",
      "### 不利な点\n",
      "- **研究能力**: 2.8とやや低めで、重みが25%と高い。\n",
      "- **リーダーシップ**: 2.3と低評価で、少ないながらも重みが影響。\n",
      "\n",
      "### 質問・異議\n",
      "何かご質問や異議がございましたら、お知らせください。\n",
      "Action: Stage1.0_Analysis\n"
     ]
    },
    {
     "ename": "KeyError",
     "evalue": "'turn'",
     "output_type": "error",
     "traceback": [
      "\u001b[0;31m---------------------------------------------------------------------------\u001b[0m",
      "\u001b[0;31mKeyError\u001b[0m                                  Traceback (most recent call last)",
      "Cell \u001b[0;32mIn[8], line 15\u001b[0m\n\u001b[1;32m     13\u001b[0m \u001b[38;5;28mprint\u001b[39m(\u001b[38;5;124mf\u001b[39m\u001b[38;5;124m\"\u001b[39m\u001b[38;5;124mAI Response: \u001b[39m\u001b[38;5;132;01m{\u001b[39;00mresult1[\u001b[38;5;124m'\u001b[39m\u001b[38;5;124mresponse\u001b[39m\u001b[38;5;124m'\u001b[39m]\u001b[38;5;132;01m}\u001b[39;00m\u001b[38;5;124m\"\u001b[39m)\n\u001b[1;32m     14\u001b[0m \u001b[38;5;28mprint\u001b[39m(\u001b[38;5;124mf\u001b[39m\u001b[38;5;124m\"\u001b[39m\u001b[38;5;124mAction: \u001b[39m\u001b[38;5;132;01m{\u001b[39;00mresult1[\u001b[38;5;124m'\u001b[39m\u001b[38;5;124maction\u001b[39m\u001b[38;5;124m'\u001b[39m]\u001b[38;5;132;01m}\u001b[39;00m\u001b[38;5;124m\"\u001b[39m)\n\u001b[0;32m---> 15\u001b[0m \u001b[38;5;28mprint\u001b[39m(\u001b[38;5;124mf\u001b[39m\u001b[38;5;124m\"\u001b[39m\u001b[38;5;124mTurn: \u001b[39m\u001b[38;5;132;01m{\u001b[39;00mresult1[\u001b[38;5;124m'\u001b[39m\u001b[38;5;124mturn\u001b[39m\u001b[38;5;124m'\u001b[39m]\u001b[38;5;132;01m}\u001b[39;00m\u001b[38;5;124m\"\u001b[39m)\n\u001b[1;32m     16\u001b[0m \u001b[38;5;28mprint\u001b[39m(\u001b[38;5;124mf\u001b[39m\u001b[38;5;124m\"\u001b[39m\u001b[38;5;124mCurrent Stage: \u001b[39m\u001b[38;5;132;01m{\u001b[39;00mcurrent_state[\u001b[38;5;124m'\u001b[39m\u001b[38;5;124mstage\u001b[39m\u001b[38;5;124m'\u001b[39m]\u001b[38;5;132;01m}\u001b[39;00m\u001b[38;5;124m\"\u001b[39m)\n\u001b[1;32m     17\u001b[0m \u001b[38;5;28mprint\u001b[39m(\u001b[38;5;124m\"\u001b[39m\u001b[38;5;124m-\u001b[39m\u001b[38;5;124m\"\u001b[39m \u001b[38;5;241m*\u001b[39m \u001b[38;5;241m50\u001b[39m)\n",
      "\u001b[0;31mKeyError\u001b[0m: 'turn'"
     ]
    }
   ],
   "source": [
    "# ターン1: 初回接触（ルール説明）\n",
    "print(\"=== ターン1: 初回接触 ===\")\n",
    "result1 = lg_service.execute_turn(\n",
    "    message=\"こんにちは。今回の評価について説明をお願いします。\",\n",
    "    decision=\"未定\",\n",
    "    state=current_state,\n",
    "    session_data=sample_session_data\n",
    ")\n",
    "\n",
    "# 状態を更新\n",
    "current_state = result1['state']\n",
    "\n",
    "print(f\"AI Response: {result1['response']}\")\n",
    "print(f\"Action: {result1['action']}\")\n",
    "print(f\"Turn: {result1['turn']}\")\n",
    "print(f\"Current Stage: {current_state['stage']}\")\n",
    "print(\"-\" * 50)"
   ]
  },
  {
   "cell_type": "code",
   "execution_count": null,
   "metadata": {},
   "outputs": [],
   "source": [
    "# ターン2: 重視点の確認\n",
    "print(\"=== ターン2: 重視点の確認 ===\")\n",
    "result2 = lg_service.execute_turn(\n",
    "    message=\"学業成績と研究能力を特に重視しています。基礎的な学力がしっかりしている学生を評価したいと思います。\",\n",
    "    decision=\"未定\",\n",
    "    state=current_state,\n",
    "    session_data=sample_session_data\n",
    ")\n",
    "\n",
    "current_state = result2['state']\n",
    "\n",
    "print(f\"AI Response: {result2['response']}\")\n",
    "print(f\"Action: {result2['action']}\")\n",
    "print(f\"Turn: {result2['turn']}\")\n",
    "print(f\"Current Stage: {current_state['stage']}\")\n",
    "print(\"-\" * 50)"
   ]
  },
  {
   "cell_type": "code",
   "execution_count": null,
   "metadata": {},
   "outputs": [],
   "source": [
    "# ターン3: 質問をしてみる\n",
    "print(\"=== ターン3: 質問 ===\")\n",
    "result3 = lg_service.execute_turn(\n",
    "    message=\"リーダーシップの評価が低いのはなぜですか？この項目はどのように評価されているのでしょうか？\",\n",
    "    decision=\"未定\",\n",
    "    state=current_state,\n",
    "    session_data=sample_session_data\n",
    ")\n",
    "\n",
    "current_state = result3['state']\n",
    "\n",
    "print(f\"AI Response: {result3['response']}\")\n",
    "print(f\"Action: {result3['action']}\")\n",
    "print(f\"Turn: {result3['turn']}\")\n",
    "print(f\"Current Stage: {current_state['stage']}\")\n",
    "print(\"-\" * 50)"
   ]
  },
  {
   "cell_type": "code",
   "execution_count": null,
   "metadata": {},
   "outputs": [],
   "source": [
    "# ターン4: 異議申し立て\n",
    "print(\"=== ターン4: 異議申し立て ===\")\n",
    "result4 = lg_service.execute_turn(\n",
    "    message=\"この評価には納得できません。リーダーシップの評価をもう一度見直してください。\",\n",
    "    decision=\"合格\",\n",
    "    state=current_state,\n",
    "    session_data=sample_session_data\n",
    ")\n",
    "\n",
    "current_state = result4['state']\n",
    "\n",
    "print(f\"AI Response: {result4['response']}\")\n",
    "print(f\"Action: {result4['action']}\")\n",
    "print(f\"Turn: {result4['turn']}\")\n",
    "print(f\"Appeal Made: {current_state.get('appeal_made', False)}\")\n",
    "print(f\"Current Stage: {current_state['stage']}\")\n",
    "print(\"-\" * 50)"
   ]
  },
  {
   "cell_type": "code",
   "execution_count": null,
   "metadata": {},
   "outputs": [],
   "source": [
    "# ターン5: 最終まとめ\n",
    "print(\"=== ターン5: 最終まとめ ===\")\n",
    "result5 = lg_service.execute_turn(\n",
    "    message=\"分かりました。ありがとうございました。\",\n",
    "    decision=\"合格\",\n",
    "    state=current_state,\n",
    "    session_data=sample_session_data\n",
    ")\n",
    "\n",
    "current_state = result5['state']\n",
    "\n",
    "print(f\"AI Response: {result5['response']}\")\n",
    "print(f\"Action: {result5['action']}\")\n",
    "print(f\"Turn: {result5['turn']}\")\n",
    "print(f\"Current Stage: {current_state['stage']}\")\n",
    "print(\"-\" * 50)"
   ]
  },
  {
   "cell_type": "markdown",
   "metadata": {},
   "source": [
    "## 5. SimpleLLMResponder（軽量版）のテスト"
   ]
  },
  {
   "cell_type": "code",
   "execution_count": null,
   "metadata": {},
   "outputs": [],
   "source": [
    "# SimpleLLMResponderのテスト\n",
    "print(\"=== SimpleLLMResponder Test ===\")\n",
    "try:\n",
    "    simple_responder = SimpleLLMResponder()\n",
    "    \n",
    "    # テストメッセージ\n",
    "    test_message = \"この学生の評価について詳しく教えてください。特に研究能力の部分が気になります。\"\n",
    "    \n",
    "    simple_response = simple_responder.generate(\n",
    "        user_message=test_message,\n",
    "        decision_data=sample_session_data['decision_data'],\n",
    "        fallback_decision=\"合格\"\n",
    "    )\n",
    "    \n",
    "    print(f\"User Message: {test_message}\")\n",
    "    print(f\"Simple LLM Response: {simple_response}\")\n",
    "    \n",
    "except Exception as e:\n",
    "    print(f\"❌ SimpleLLMResponder error: {e}\")"
   ]
  },
  {
   "cell_type": "markdown",
   "metadata": {},
   "source": [
    "## 6. 会話履歴の表示"
   ]
  },
  {
   "cell_type": "code",
   "execution_count": null,
   "metadata": {},
   "outputs": [],
   "source": [
    "# 全会話履歴の表示\n",
    "print(\"=== 会話履歴 ===\")\n",
    "conversation_history = [\n",
    "    {\"turn\": 1, \"user\": \"こんにちは。今回の評価について説明をお願いします。\", \"ai\": result1['response']},\n",
    "    {\"turn\": 2, \"user\": \"学業成績と研究能力を特に重視しています。基礎的な学力がしっかりしている学生を評価したいと思います。\", \"ai\": result2['response']},\n",
    "    {\"turn\": 3, \"user\": \"リーダーシップの評価が低いのはなぜですか？この項目はどのように評価されているのでしょうか？\", \"ai\": result3['response']},\n",
    "    {\"turn\": 4, \"user\": \"この評価には納得できません。リーダーシップの評価をもう一度見直してください。\", \"ai\": result4['response']},\n",
    "    {\"turn\": 5, \"user\": \"分かりました。ありがとうございました。\", \"ai\": result5['response']}\n",
    "]\n",
    "\n",
    "for conv in conversation_history:\n",
    "    print(f\"\\n【Turn {conv['turn']}】\")\n",
    "    print(f\"User: {conv['user']}\")\n",
    "    print(f\"AI: {conv['ai']}\")\n",
    "    print(\"-\" * 40)"
   ]
  },
  {
   "cell_type": "markdown",
   "metadata": {},
   "source": [
    "## 7. 満足度スコアの分析"
   ]
  },
  {
   "cell_type": "code",
   "execution_count": null,
   "metadata": {},
   "outputs": [],
   "source": [
    "# 各ターンの満足度スコアを収集\n",
    "satisfaction_data = [\n",
    "    {\"turn\": 1, \"scores\": result1.get('satisfaction_scores', {})},\n",
    "    {\"turn\": 2, \"scores\": result2.get('satisfaction_scores', {})},\n",
    "    {\"turn\": 3, \"scores\": result3.get('satisfaction_scores', {})},\n",
    "    {\"turn\": 4, \"scores\": result4.get('satisfaction_scores', {})},\n",
    "    {\"turn\": 5, \"scores\": result5.get('satisfaction_scores', {})}\n",
    "]\n",
    "\n",
    "print(\"=== 満足度スコアの推移 ===\")\n",
    "for data in satisfaction_data:\n",
    "    print(f\"\\nTurn {data['turn']}:\")\n",
    "    for dimension, score in data['scores'].items():\n",
    "        print(f\"  {dimension}: {score}\")\n",
    "\n",
    "# 最終的な平均スコア\n",
    "if result5.get('satisfaction_scores'):\n",
    "    final_scores = result5['satisfaction_scores']\n",
    "    average_score = sum(final_scores.values()) / len(final_scores)\n",
    "    print(f\"\\n最終平均満足度: {average_score:.2f}\")"
   ]
  },
  {
   "cell_type": "markdown",
   "metadata": {},
   "source": [
    "## 8. インタラクティブテスト（オプション）"
   ]
  },
  {
   "cell_type": "code",
   "execution_count": null,
   "metadata": {},
   "outputs": [],
   "source": [
    "# インタラクティブなチャットテスト用の関数\n",
    "def interactive_chat_test():\n",
    "    \"\"\"インタラクティブなチャットテスト\"\"\"\n",
    "    print(\"=== Interactive Chat Test ===\")\n",
    "    print(\"Type 'quit' to exit\")\n",
    "    \n",
    "    # 新しいセッションを開始\n",
    "    interactive_service = LangGraphService(enable_logging=False, session_id=\"interactive_test\")\n",
    "    interactive_state = initial_state.copy()\n",
    "    \n",
    "    while True:\n",
    "        user_input = input(\"\\nUser: \").strip()\n",
    "        if user_input.lower() == 'quit':\n",
    "            print(\"Chat ended.\")\n",
    "            break\n",
    "            \n",
    "        if not user_input:\n",
    "            continue\n",
    "            \n",
    "        try:\n",
    "            result = interactive_service.execute_turn(\n",
    "                message=user_input,\n",
    "                decision=\"未定\",\n",
    "                state=interactive_state,\n",
    "                session_data=sample_session_data\n",
    "            )\n",
    "            \n",
    "            interactive_state = result['state']\n",
    "            \n",
    "            print(f\"AI: {result['response']}\")\n",
    "            print(f\"[Turn: {result['turn']}, Stage: {interactive_state['stage']}, Action: {result['action']}]\")\n",
    "            \n",
    "        except Exception as e:\n",
    "            print(f\"Error: {e}\")\n",
    "\n",
    "# インタラクティブテストを実行する場合は下記をアンコメント\n",
    "# interactive_chat_test()"
   ]
  },
  {
   "cell_type": "markdown",
   "metadata": {},
   "source": [
    "## 9. まとめ\n",
    "\n",
    "このnotebookでは以下をテストしました：\n",
    "\n",
    "1. **LangGraphService**: メインのチャットサービス\n",
    "   - ルール説明 → 重視点確認 → 観点整理 → 質問対応 → 異議申し立て → まとめ\n",
    "   - 手続き的公正の各段階を適切に処理\n",
    "\n",
    "2. **SimpleLLMResponder**: 軽量版チャットサービス\n",
    "   - シンプルな質問応答機能\n",
    "\n",
    "3. **満足度スコア**: 各段階での手続き的公正満足度の測定\n",
    "\n",
    "4. **インタラクティブテスト**: リアルタイムでの動作確認\n",
    "\n",
    "既存のservice層を活用して、チャット機能を独立してテストできる環境が完成しました。"
   ]
  },
  {
   "cell_type": "code",
   "execution_count": 9,
   "id": "6f5v6u5qdec",
   "metadata": {},
   "outputs": [
    {
     "name": "stdout",
     "output_type": "stream",
     "text": [
      "✅ プロジェクトルート設定: /Users/kazukikomura/Developer/research/multiagentahp\n"
     ]
    }
   ],
   "source": [
    "# テスト実行\n",
    "import sys\n",
    "import os\n",
    "from pathlib import Path\n",
    "\n",
    "# プロジェクトルートをパスに追加\n",
    "project_root = Path('/Users/kazukikomura/Developer/research/multiagentahp')\n",
    "sys.path.insert(0, str(project_root))\n",
    "\n",
    "print(f\"✅ プロジェクトルート設定: {project_root}\")"
   ]
  }
 ],
 "metadata": {
  "kernelspec": {
   "display_name": ".venv",
   "language": "python",
   "name": "python3"
  },
  "language_info": {
   "codemirror_mode": {
    "name": "ipython",
    "version": 3
   },
   "file_extension": ".py",
   "mimetype": "text/x-python",
   "name": "python",
   "nbconvert_exporter": "python",
   "pygments_lexer": "ipython3",
   "version": "3.9.6"
  }
 },
 "nbformat": 4,
 "nbformat_minor": 4
}
