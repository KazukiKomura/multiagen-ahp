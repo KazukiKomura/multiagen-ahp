{
 "cells": [
  {
   "cell_type": "code",
   "source": "# 全体の満足度スコア分析\nprint(\"=== 満足度スコア分析 ===\")\n\nall_results = [result1, result2, result3, consolidation_result, result_question, result_appeal, result_final]\nfinal_scores = None\n\nfor i, result in enumerate(all_results, 1):\n    scores = result.get('satisfaction_scores', {})\n    if scores:\n        print(f\"\\\\nTurn {i} 満足度:\")\n        for dimension, score in scores.items():\n            print(f\"  {dimension}: {score}\")\n        final_scores = scores\n\nif final_scores:\n    avg_score = sum(final_scores.values()) / len(final_scores)\n    print(f\"\\\\n最終平均満足度: {avg_score:.2f}\")\n    \n    print(\"\\\\n各次元詳細:\")\n    for dim, score in final_scores.items():\n        status = \"✅ 良好\" if score >= 0.7 else \"⚠️ 要改善\" if score >= 0.5 else \"❌ 不良\"\n        print(f\"  {dim}: {score:.2f} {status}\")\n\nprint(\"\\\\n=== フロー完了 ===\")\nprint(\"実行されたフロー:\")\nprint(\"1. ✅ 基準の説明 (AI)\")\nprint(\"2. ✅ ユーザー重視点の要約確認 (AI)\")  \nprint(\"3. ✅ ユーザー回答 (User)\")\nprint(\"4. ✅ Bot評価者観点整理 (AI)\")\nprint(\"5. ✅ 質問・異議申し立て (User)\")\nprint(\"6. ✅ 異議申し立て結果伝達 (AI)\")\nprint(\"7. ✅ 最終結果要約 (AI)\")\n\nprint(f\"\\\\n総ターン数: {current_state['turn']}\")\nprint(f\"最終ステージ: {current_state['stage']}\")\nprint(f\"異議申し立て: {'あり' if current_state.get('appeal_made') else 'なし'}\")",
   "metadata": {},
   "execution_count": null,
   "outputs": []
  },
  {
   "cell_type": "markdown",
   "metadata": {},
   "source": [
    "# フロントエンド対応チャットフロー テスト\n",
    "\n",
    "フロントエンドの実際のフローに合わせたテストnotebook\n"
   ]
  },
  {
   "cell_type": "code",
   "execution_count": null,
   "metadata": {},
   "outputs": [],
   "source": [
    "import sys\n",
    "import os\n",
    "from pathlib import Path\n",
    "import json\n",
    "from typing import Dict, Any\n",
    "\n",
    "# プロジェクトルートをパスに追加\n",
    "project_root = Path().cwd().parent\n",
    "sys.path.insert(0, str(project_root))\n",
    "\n",
    "# 環境変数読み込み\n",
    "from dotenv import load_dotenv\n",
    "load_dotenv(project_root / '.env')\n",
    "\n",
    "# サービスimport\n",
    "from src.services.langgraph_service import LangGraphService\n",
    "\n",
    "print(\"✅ 初期化完了\")"
   ]
  },
  {
   "cell_type": "code",
   "execution_count": null,
   "metadata": {},
   "outputs": [],
   "source": [
    "# フロントエンドと同じデータ構造を準備\n",
    "sample_session_data = {\n",
    "    'student_info': {\n",
    "        'name': '田中太郎',\n",
    "        'student_id': 'S2024001',\n",
    "        'detailed_scores': {\n",
    "            '学業成績': 3.2,\n",
    "            '研究能力': 2.8,\n",
    "            'コミュニケーション': 3.5,\n",
    "            'リーダーシップ': 2.3,\n",
    "            '将来性': 3.0\n",
    "        }\n",
    "    },\n",
    "    'decision_data': {\n",
    "        'user_weights': {\n",
    "            '学業成績': 30,\n",
    "            '研究能力': 25,\n",
    "            'コミュニケーション': 20,\n",
    "            'リーダーシップ': 10,\n",
    "            '将来性': 15\n",
    "        },\n",
    "        'bot_evaluators': {\n",
    "            'bot1': {'decision': '不合格'},\n",
    "            'bot2': {'decision': '不合格'},\n",
    "            'bot3': {'decision': '合格'}\n",
    "        }\n",
    "    },\n",
    "    'rule_summary': {\n",
    "        'criteria': '5項目の加重平均による総合評価',\n",
    "        'threshold_description': '各項目2.5点以上が基準',\n",
    "        'evaluation_method': '重み配分に基づく加重平均と多数決'\n",
    "    },\n",
    "    'threshold': 2.5,\n",
    "    'last_user_text': ''\n",
    "}\n",
    "\n",
    "# ユーザーの初期決定データ（フロントエンドのPhase1結果）\n",
    "initial_decision_data = {\n",
    "    'decision': '合格',\n",
    "    'weights': {\n",
    "        '学業成績': 30,\n",
    "        '研究能力': 25,\n",
    "        'コミュニケーション': 20,\n",
    "        'リーダーシップ': 10,\n",
    "        '将来性': 15\n",
    "    },\n",
    "    'reasoning': '学業成績と研究能力が基準を上回っており、将来性も期待できるため。'\n",
    "}\n",
    "\n",
    "# セッション状態初期化\n",
    "initial_state = {\n",
    "    'turn': 0,\n",
    "    'stage': 0.0,\n",
    "    'route': 'Rules',\n",
    "    'appeal_made': False,\n",
    "    'rules_shown': False,\n",
    "    'questions': []\n",
    "}\n",
    "\n",
    "print(\"✅ テストデータ準備完了\")\n",
    "print(f\"ユーザー決定: {initial_decision_data['decision']}\")\n",
    "print(f\"重要度設定: {initial_decision_data['weights']}\")"
   ]
  },
  {
   "cell_type": "code",
   "execution_count": null,
   "metadata": {},
   "outputs": [],
   "source": [
    "# LangGraphService初期化\n",
    "lg_service = LangGraphService(enable_logging=False, session_id=\"frontend_test\")\n",
    "current_state = initial_state.copy()\n",
    "\n",
    "print(\"✅ LangGraphService初期化完了\")"
   ]
  },
  {
   "cell_type": "code",
   "execution_count": null,
   "metadata": {},
   "outputs": [],
   "source": "# フローに従って: ユーザーの重視点の回答 + 品質チェック\nprint(\"=== ユーザー回答: 重視点について (品質チェック付き) ===\")\n\nuser_criteria_response = \"学業成績と研究能力を特に重視しています。学業成績30%、研究能力25%に設定しました。この学生は学業成績3.2、研究能力2.8と基準を上回っており、基礎的な学力がしっかりしていると判断しています。\"\n\n# 品質チェック（裏側で動作、ユーザーには見えない）\nfrom src.services.simple_llm import SimpleLLMResponder\nquality_checker = SimpleLLMResponder()\n\nprint(\"🔍 [内部] 日本語品質チェック実行中...\")\ntry:\n    quality_result = quality_checker.check_japanese_quality(user_criteria_response)\n    print(f\"🔍 [内部] 品質チェック結果: {quality_result}\")\n    \n    if not quality_result.get(\"is_valid\", True):\n        print(f\"⚠️ [内部] 品質チェック警告: {quality_result.get('reason', '不明')}\")\n    else:\n        print(\"✅ [内部] 品質チェック通過\")\nexcept Exception as e:\n    print(f\"⚠️ [内部] 品質チェックエラー: {e}\")\n\nresult3 = lg_service.execute_turn(\n    message=user_criteria_response,\n    decision=initial_decision_data['decision'],\n    state=current_state,\n    session_data=sample_session_data\n)\n\ncurrent_state = result3['state']\nprint(f\"👤 User: {user_criteria_response}\")\nprint(f\"🤖 AI (回答確認): {result3['response']}\")\nprint(f\"Turn: {result3['turn']}, Stage: {current_state['stage']}\")\nprint(\"-\" * 50)"
  },
  {
   "cell_type": "code",
   "execution_count": null,
   "metadata": {},
   "outputs": [],
   "source": "# フローに従って: ユーザーの重視点の回答\nprint(\"=== ユーザー回答: 重視点について ===\")\n\nuser_criteria_response = \"学業成績と研究能力を特に重視しています。学業成績30%、研究能力25%に設定しました。この学生は学業成績3.2、研究能力2.8と基準を上回っており、基礎的な学力がしっかりしていると判断しています。\"\n\nresult3 = lg_service.execute_turn(\n    message=user_criteria_response,\n    decision=initial_decision_data['decision'],\n    state=current_state,\n    session_data=sample_session_data\n)\n\ncurrent_state = result3['state']\nprint(f\"👤 User: {user_criteria_response}\")\nprint(f\"🤖 AI (回答確認): {result3['response']}\")\nprint(f\"Turn: {result3['turn']}, Stage: {current_state['stage']}\")\nprint(\"-\" * 50)"
  },
  {
   "cell_type": "code",
   "execution_count": null,
   "metadata": {},
   "outputs": [],
   "source": "# フローに従って: bot評価者の観点整理と質問確認\nprint(\"=== AI: Bot評価者との観点整理と質問確認 ===\")\n\n# 自動的に観点整理を実行\nconsolidation_result = lg_service.execute_turn(\n    message=\"観点を整理してください\",\n    decision=initial_decision_data['decision'],\n    state=current_state,\n    session_data=sample_session_data\n)\n\ncurrent_state = consolidation_result['state']\nprint(f\"🤖 AI (観点整理): {consolidation_result['response']}\")\nprint(f\"Turn: {consolidation_result['turn']}, Stage: {current_state['stage']}\")\nprint(\"-\" * 50)"
  },
  {
   "cell_type": "code",
   "execution_count": null,
   "metadata": {},
   "outputs": [],
   "source": "# フローに従って: ユーザーからの質問や異議申し立て\nprint(\"=== ユーザー: 質問・異議申し立て ===\")\n\nuser_question = \"リーダーシップの評価が2.3と低いのが気になります。bot評価者はこの点をどう判断しているのでしょうか？また、この評価を見直すことは可能でしょうか？\"\n\nresult_question = lg_service.execute_turn(\n    message=user_question,\n    decision=initial_decision_data['decision'],\n    state=current_state,\n    session_data=sample_session_data\n)\n\ncurrent_state = result_question['state']\nprint(f\"👤 User: {user_question}\")\nprint(f\"🤖 AI (質問回答): {result_question['response']}\")\nprint(f\"Turn: {result_question['turn']}, Stage: {current_state['stage']}\")\nprint(\"-\" * 50)"
  },
  {
   "cell_type": "code",
   "execution_count": null,
   "metadata": {},
   "outputs": [],
   "source": "# フローに従って: 異議申し立て結果の伝達\nprint(\"=== AI: 異議申し立て結果伝達 ===\")\n\nappeal_message = \"評価の見直しを要請します。リーダーシップの評価が低すぎると思います。\"\n\nresult_appeal = lg_service.execute_turn(\n    message=appeal_message,\n    decision=initial_decision_data['decision'],\n    state=current_state,\n    session_data=sample_session_data\n)\n\ncurrent_state = result_appeal['state']\nprint(f\"👤 User (異議申し立て): {appeal_message}\")\nprint(f\"🤖 AI (異議申し立て結果): {result_appeal['response']}\")\nprint(f\"Turn: {result_appeal['turn']}, Stage: {current_state['stage']}\")\nprint(f\"Appeal Made: {current_state.get('appeal_made', False)}\")\nprint(\"-\" * 50)"
  },
  {
   "cell_type": "code",
   "execution_count": null,
   "metadata": {},
   "outputs": [],
   "source": "# フローに従って: 最終的な結果の要約\nprint(\"=== AI: 最終結果要約 ===\")\n\nfinal_summary_message = \"分かりました。ありがとうございました。\"\n\nresult_final = lg_service.execute_turn(\n    message=final_summary_message,\n    decision=initial_decision_data['decision'],\n    state=current_state,\n    session_data=sample_session_data\n)\n\ncurrent_state = result_final['state']\nprint(f\"👤 User: {final_summary_message}\")\nprint(f\"🤖 AI (最終要約): {result_final['response']}\")\nprint(f\"Turn: {result_final['turn']}, Stage: {current_state['stage']}\")\nprint(\"-\" * 50)"
  }
 ],
 "metadata": {
  "kernelspec": {
   "display_name": "Python 3",
   "language": "python",
   "name": "python3"
  },
  "language_info": {
   "codemirror_mode": {
    "name": "ipython",
    "version": 3
   },
   "file_extension": ".py",
   "mimetype": "text/x-python",
   "name": "python",
   "nbconvert_exporter": "python",
   "pygments_lexer": "ipython3",
   "version": "3.9.0"
  }
 },
 "nbformat": 4,
 "nbformat_minor": 4
}